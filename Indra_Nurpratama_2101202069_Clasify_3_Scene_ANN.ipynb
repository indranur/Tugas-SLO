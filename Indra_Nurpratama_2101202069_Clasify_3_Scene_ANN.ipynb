{
  "nbformat": 4,
  "nbformat_minor": 0,
  "metadata": {
    "colab": {
      "name": "Indra Nurpratama_2101202069_Clasify 3 Scene_ANN.ipynb",
      "provenance": [],
      "authorship_tag": "ABX9TyPy5UWHiAlihg7oFozXVHYH",
      "include_colab_link": true
    },
    "kernelspec": {
      "name": "python3",
      "display_name": "Python 3"
    },
    "language_info": {
      "name": "python"
    }
  },
  "cells": [
    {
      "cell_type": "markdown",
      "metadata": {
        "id": "view-in-github",
        "colab_type": "text"
      },
      "source": [
        "<a href=\"https://colab.research.google.com/github/indranur/Tugas-SLO_Data-Cancer/blob/main/Indra_Nurpratama_2101202069_Clasify_3_Scene_ANN.ipynb\" target=\"_parent\"><img src=\"https://colab.research.google.com/assets/colab-badge.svg\" alt=\"Open In Colab\"/></a>"
      ]
    },
    {
      "cell_type": "code",
      "metadata": {
        "colab": {
          "base_uri": "https://localhost:8080/"
        },
        "id": "5WfEznvJC3FA",
        "outputId": "c8e0a6a1-2302-4b8b-9005-00e22f65f7da"
      },
      "source": [
        "from google.colab import drive\n",
        "drive.mount('/content/drive')"
      ],
      "execution_count": 1,
      "outputs": [
        {
          "output_type": "stream",
          "text": [
            "Mounted at /content/drive\n"
          ],
          "name": "stdout"
        }
      ]
    },
    {
      "cell_type": "code",
      "metadata": {
        "colab": {
          "base_uri": "https://localhost:8080/"
        },
        "id": "hkp67227GZj5",
        "outputId": "3db7729b-c2dc-4728-bb26-e7beaad6e367"
      },
      "source": [
        "cd /content/drive/MyDrive/Colab Notebooks"
      ],
      "execution_count": 2,
      "outputs": [
        {
          "output_type": "stream",
          "text": [
            "/content/drive/MyDrive/Colab Notebooks\n"
          ],
          "name": "stdout"
        }
      ]
    },
    {
      "cell_type": "code",
      "metadata": {
        "colab": {
          "base_uri": "https://localhost:8080/"
        },
        "id": "dKiwOB1KGe9z",
        "outputId": "2f2a4919-7fb1-4626-ce2d-3baf6c0642b6"
      },
      "source": [
        "ls"
      ],
      "execution_count": 3,
      "outputs": [
        {
          "output_type": "stream",
          "text": [
            " \u001b[0m\u001b[01;34m3scene\u001b[0m/\n",
            " data_cancer.csv\n",
            "'Indra Nurpratama_2101202069_Clasify 3 Scene_ANN.ipynb'\n",
            "'Tugas Klasifikasi Data Cancer_Indra Nurpratama_2101202069.ipynb'\n"
          ],
          "name": "stdout"
        }
      ]
    },
    {
      "cell_type": "code",
      "metadata": {
        "id": "L-5hTy-jGhhg"
      },
      "source": [
        "# import the necessary packages\n",
        "from keras.models import Sequential\n",
        "from keras.layers.core import Activation\n",
        "from keras.layers.core import Flatten\n",
        "from keras.layers.core import Dense\n",
        "from keras.optimizers import Adam\n",
        "from sklearn.preprocessing import LabelBinarizer\n",
        "from sklearn.model_selection import train_test_split\n",
        "from sklearn.metrics import classification_report\n",
        "from PIL import Image\n",
        "from imutils import paths\n",
        "import numpy as np\n",
        "import os"
      ],
      "execution_count": 4,
      "outputs": []
    },
    {
      "cell_type": "code",
      "metadata": {
        "colab": {
          "base_uri": "https://localhost:8080/"
        },
        "id": "UHwdRa3GIkzu",
        "outputId": "07cb0a07-bcf8-4f9d-8865-e4f1f52bc3ad"
      },
      "source": [
        "# grab all image paths in the input dataset directory, then initialize\n",
        "# our list of images and corresponding class labels\n",
        "print(\"[INFO] loading images...\")\n",
        "imagePaths = paths.list_images(\"3scene\")\n",
        "data = []\n",
        "labels = []"
      ],
      "execution_count": 5,
      "outputs": [
        {
          "output_type": "stream",
          "text": [
            "[INFO] loading images...\n"
          ],
          "name": "stdout"
        }
      ]
    },
    {
      "cell_type": "code",
      "metadata": {
        "id": "jYjxifYBIo_I"
      },
      "source": [
        "# loop over our input images\n",
        "for imagePath in imagePaths:\n",
        "\t# load the input image from disk, resize it to 64x64 pixels, scale\n",
        "\t# the pixel intensities to the range [0, 1], and then update our\n",
        "\t# images list\n",
        "\timage = Image.open(imagePath)\n",
        " #bisa pasang preprocessing disini jika mau, seperti filterring, dll\n",
        "\timage = np.array(image.resize((64, 64))) / 255.0 #normalisasi\n",
        "\tdata.append(image)\n",
        "\n",
        "\t# extract the class label from the file path and update the\n",
        "\t# labels list\n",
        "\tlabel = imagePath.split(os.path.sep)[-2]\n",
        "\tlabels.append(label)"
      ],
      "execution_count": 6,
      "outputs": []
    },
    {
      "cell_type": "code",
      "metadata": {
        "colab": {
          "base_uri": "https://localhost:8080/"
        },
        "id": "wCwEPd1QJWqF",
        "outputId": "a7b811d5-97cd-4af7-f91b-41d71caa6e89"
      },
      "source": [
        "print(labels)"
      ],
      "execution_count": 7,
      "outputs": [
        {
          "output_type": "stream",
          "text": [
            "['highway', 'highway', 'highway', 'highway', 'highway', 'highway', 'highway', 'highway', 'highway', 'highway', 'highway', 'highway', 'highway', 'highway', 'highway', 'highway', 'highway', 'highway', 'highway', 'highway', 'highway', 'highway', 'highway', 'highway', 'highway', 'highway', 'highway', 'highway', 'highway', 'highway', 'highway', 'highway', 'highway', 'highway', 'highway', 'highway', 'highway', 'highway', 'highway', 'highway', 'highway', 'highway', 'highway', 'highway', 'highway', 'highway', 'highway', 'highway', 'highway', 'highway', 'highway', 'highway', 'highway', 'highway', 'highway', 'highway', 'highway', 'highway', 'highway', 'highway', 'highway', 'highway', 'highway', 'highway', 'highway', 'highway', 'highway', 'highway', 'highway', 'highway', 'highway', 'highway', 'highway', 'highway', 'highway', 'highway', 'highway', 'highway', 'highway', 'highway', 'highway', 'highway', 'highway', 'highway', 'highway', 'highway', 'highway', 'highway', 'highway', 'highway', 'highway', 'highway', 'highway', 'highway', 'highway', 'highway', 'highway', 'highway', 'highway', 'highway', 'highway', 'highway', 'highway', 'highway', 'highway', 'highway', 'highway', 'highway', 'highway', 'highway', 'highway', 'highway', 'highway', 'highway', 'highway', 'highway', 'highway', 'highway', 'highway', 'highway', 'highway', 'highway', 'highway', 'highway', 'highway', 'highway', 'highway', 'highway', 'highway', 'highway', 'highway', 'highway', 'highway', 'highway', 'highway', 'highway', 'highway', 'highway', 'highway', 'highway', 'highway', 'highway', 'highway', 'highway', 'highway', 'highway', 'highway', 'highway', 'highway', 'highway', 'highway', 'highway', 'highway', 'highway', 'highway', 'highway', 'highway', 'highway', 'highway', 'highway', 'highway', 'highway', 'highway', 'highway', 'highway', 'highway', 'highway', 'highway', 'highway', 'highway', 'highway', 'highway', 'highway', 'highway', 'highway', 'highway', 'highway', 'highway', 'highway', 'highway', 'highway', 'highway', 'highway', 'highway', 'highway', 'highway', 'highway', 'highway', 'highway', 'highway', 'highway', 'highway', 'highway', 'highway', 'highway', 'highway', 'highway', 'highway', 'highway', 'highway', 'highway', 'highway', 'highway', 'highway', 'highway', 'highway', 'highway', 'highway', 'highway', 'highway', 'highway', 'highway', 'highway', 'highway', 'highway', 'highway', 'highway', 'highway', 'highway', 'highway', 'highway', 'highway', 'highway', 'highway', 'highway', 'highway', 'highway', 'highway', 'highway', 'highway', 'highway', 'highway', 'highway', 'highway', 'highway', 'highway', 'highway', 'highway', 'highway', 'highway', 'highway', 'highway', 'highway', 'highway', 'highway', 'highway', 'highway', 'highway', 'highway', 'highway', 'highway', 'highway', 'highway', 'highway', 'highway', 'highway', 'highway', 'highway', 'highway', 'highway', 'coast', 'coast', 'coast', 'coast', 'coast', 'coast', 'coast', 'coast', 'coast', 'coast', 'coast', 'coast', 'coast', 'coast', 'coast', 'coast', 'coast', 'coast', 'coast', 'coast', 'coast', 'coast', 'coast', 'coast', 'coast', 'coast', 'coast', 'coast', 'coast', 'coast', 'coast', 'coast', 'coast', 'coast', 'coast', 'coast', 'coast', 'coast', 'coast', 'coast', 'coast', 'coast', 'coast', 'coast', 'coast', 'coast', 'coast', 'coast', 'coast', 'coast', 'coast', 'coast', 'coast', 'coast', 'coast', 'coast', 'coast', 'coast', 'coast', 'coast', 'coast', 'coast', 'coast', 'coast', 'coast', 'coast', 'coast', 'coast', 'coast', 'coast', 'coast', 'coast', 'coast', 'coast', 'coast', 'coast', 'coast', 'coast', 'coast', 'coast', 'coast', 'coast', 'coast', 'coast', 'coast', 'coast', 'coast', 'coast', 'coast', 'coast', 'coast', 'coast', 'coast', 'coast', 'coast', 'coast', 'coast', 'coast', 'coast', 'coast', 'coast', 'coast', 'coast', 'coast', 'coast', 'coast', 'coast', 'coast', 'coast', 'coast', 'coast', 'coast', 'coast', 'coast', 'coast', 'coast', 'coast', 'coast', 'coast', 'coast', 'coast', 'coast', 'coast', 'coast', 'coast', 'coast', 'coast', 'coast', 'coast', 'coast', 'coast', 'coast', 'coast', 'coast', 'coast', 'coast', 'coast', 'coast', 'coast', 'coast', 'coast', 'coast', 'coast', 'coast', 'coast', 'coast', 'coast', 'coast', 'coast', 'coast', 'coast', 'coast', 'coast', 'coast', 'coast', 'coast', 'coast', 'coast', 'coast', 'coast', 'coast', 'coast', 'coast', 'coast', 'coast', 'coast', 'coast', 'coast', 'coast', 'coast', 'coast', 'coast', 'coast', 'coast', 'coast', 'coast', 'coast', 'coast', 'coast', 'coast', 'coast', 'coast', 'coast', 'coast', 'coast', 'coast', 'coast', 'coast', 'coast', 'coast', 'coast', 'coast', 'coast', 'coast', 'coast', 'coast', 'coast', 'coast', 'coast', 'coast', 'coast', 'coast', 'coast', 'coast', 'coast', 'coast', 'coast', 'coast', 'coast', 'coast', 'coast', 'coast', 'coast', 'coast', 'coast', 'coast', 'coast', 'coast', 'coast', 'coast', 'coast', 'coast', 'coast', 'coast', 'coast', 'coast', 'coast', 'coast', 'coast', 'coast', 'coast', 'coast', 'coast', 'coast', 'coast', 'coast', 'coast', 'coast', 'coast', 'coast', 'coast', 'coast', 'coast', 'coast', 'coast', 'coast', 'coast', 'coast', 'coast', 'coast', 'coast', 'coast', 'coast', 'coast', 'coast', 'coast', 'coast', 'coast', 'coast', 'coast', 'coast', 'coast', 'coast', 'coast', 'coast', 'coast', 'coast', 'coast', 'coast', 'coast', 'coast', 'coast', 'coast', 'coast', 'coast', 'coast', 'coast', 'coast', 'coast', 'coast', 'coast', 'coast', 'coast', 'coast', 'coast', 'coast', 'coast', 'coast', 'coast', 'coast', 'coast', 'coast', 'coast', 'coast', 'coast', 'coast', 'coast', 'coast', 'coast', 'coast', 'coast', 'coast', 'coast', 'coast', 'coast', 'coast', 'coast', 'coast', 'coast', 'coast', 'coast', 'coast', 'coast', 'coast', 'coast', 'coast', 'coast', 'coast', 'coast', 'coast', 'coast', 'coast', 'coast', 'coast', 'coast', 'coast', 'coast', 'coast', 'coast', 'coast', 'coast', 'coast', 'coast', 'coast', 'coast', 'coast', 'coast', 'coast', 'coast', 'coast', 'coast', 'coast', 'coast', 'coast', 'coast', 'coast', 'coast', 'coast', 'coast', 'coast', 'coast', 'coast', 'coast', 'coast', 'coast', 'coast', 'coast', 'coast', 'coast', 'coast', 'forest', 'forest', 'forest', 'forest', 'forest', 'forest', 'forest', 'forest', 'forest', 'forest', 'forest', 'forest', 'forest', 'forest', 'forest', 'forest', 'forest', 'forest', 'forest', 'forest', 'forest', 'forest', 'forest', 'forest', 'forest', 'forest', 'forest', 'forest', 'forest', 'forest', 'forest', 'forest', 'forest', 'forest', 'forest', 'forest', 'forest', 'forest', 'forest', 'forest', 'forest', 'forest', 'forest', 'forest', 'forest', 'forest', 'forest', 'forest', 'forest', 'forest', 'forest', 'forest', 'forest', 'forest', 'forest', 'forest', 'forest', 'forest', 'forest', 'forest', 'forest', 'forest', 'forest', 'forest', 'forest', 'forest', 'forest', 'forest', 'forest', 'forest', 'forest', 'forest', 'forest', 'forest', 'forest', 'forest', 'forest', 'forest', 'forest', 'forest', 'forest', 'forest', 'forest', 'forest', 'forest', 'forest', 'forest', 'forest', 'forest', 'forest', 'forest', 'forest', 'forest', 'forest', 'forest', 'forest', 'forest', 'forest', 'forest', 'forest', 'forest', 'forest', 'forest', 'forest', 'forest', 'forest', 'forest', 'forest', 'forest', 'forest', 'forest', 'forest', 'forest', 'forest', 'forest', 'forest', 'forest', 'forest', 'forest', 'forest', 'forest', 'forest', 'forest', 'forest', 'forest', 'forest', 'forest', 'forest', 'forest', 'forest', 'forest', 'forest', 'forest', 'forest', 'forest', 'forest', 'forest', 'forest', 'forest', 'forest', 'forest', 'forest', 'forest', 'forest', 'forest', 'forest', 'forest', 'forest', 'forest', 'forest', 'forest', 'forest', 'forest', 'forest', 'forest', 'forest', 'forest', 'forest', 'forest', 'forest', 'forest', 'forest', 'forest', 'forest', 'forest', 'forest', 'forest', 'forest', 'forest', 'forest', 'forest', 'forest', 'forest', 'forest', 'forest', 'forest', 'forest', 'forest', 'forest', 'forest', 'forest', 'forest', 'forest', 'forest', 'forest', 'forest', 'forest', 'forest', 'forest', 'forest', 'forest', 'forest', 'forest', 'forest', 'forest', 'forest', 'forest', 'forest', 'forest', 'forest', 'forest', 'forest', 'forest', 'forest', 'forest', 'forest', 'forest', 'forest', 'forest', 'forest', 'forest', 'forest', 'forest', 'forest', 'forest', 'forest', 'forest', 'forest', 'forest', 'forest', 'forest', 'forest', 'forest', 'forest', 'forest', 'forest', 'forest', 'forest', 'forest', 'forest', 'forest', 'forest', 'forest', 'forest', 'forest', 'forest', 'forest', 'forest', 'forest', 'forest', 'forest', 'forest', 'forest', 'forest', 'forest', 'forest', 'forest', 'forest', 'forest', 'forest', 'forest', 'forest', 'forest', 'forest', 'forest', 'forest', 'forest', 'forest', 'forest', 'forest', 'forest', 'forest', 'forest', 'forest', 'forest', 'forest', 'forest', 'forest', 'forest', 'forest', 'forest', 'forest', 'forest', 'forest', 'forest', 'forest', 'forest', 'forest', 'forest', 'forest', 'forest', 'forest', 'forest', 'forest', 'forest', 'forest', 'forest', 'forest', 'forest', 'forest', 'forest', 'forest', 'forest', 'forest', 'forest', 'forest', 'forest', 'forest', 'forest', 'forest', 'forest', 'forest', 'forest', 'forest', 'forest', 'forest', 'forest', 'forest', 'forest', 'forest', 'forest', 'forest', 'forest', 'forest', 'forest', 'forest', 'forest', 'forest', 'forest', 'forest', 'forest', 'forest', 'forest', 'forest', 'forest', 'forest', 'forest', 'forest']\n"
          ],
          "name": "stdout"
        }
      ]
    },
    {
      "cell_type": "code",
      "metadata": {
        "id": "pvGny0bBKyUQ"
      },
      "source": [
        "\n",
        "# encode the labels, converting them from strings to integers\n",
        "lb = LabelBinarizer()\n",
        "labels = lb.fit_transform(labels)"
      ],
      "execution_count": 8,
      "outputs": []
    },
    {
      "cell_type": "code",
      "metadata": {
        "colab": {
          "base_uri": "https://localhost:8080/"
        },
        "id": "hx2M7lC4K1Af",
        "outputId": "231c6fdf-5d16-4baf-e90d-7a00876a78b4"
      },
      "source": [
        "print(labels)"
      ],
      "execution_count": 9,
      "outputs": [
        {
          "output_type": "stream",
          "text": [
            "[[0 0 1]\n",
            " [0 0 1]\n",
            " [0 0 1]\n",
            " ...\n",
            " [0 1 0]\n",
            " [0 1 0]\n",
            " [0 1 0]]\n"
          ],
          "name": "stdout"
        }
      ]
    },
    {
      "cell_type": "code",
      "metadata": {
        "colab": {
          "base_uri": "https://localhost:8080/"
        },
        "id": "RIdDMNIPK6ww",
        "outputId": "158dfff6-d182-4c04-b663-2e64c2ba4267"
      },
      "source": [
        "\n",
        "print(np.array(data).shape)"
      ],
      "execution_count": 10,
      "outputs": [
        {
          "output_type": "stream",
          "text": [
            "(948, 64, 64, 3)\n"
          ],
          "name": "stdout"
        }
      ]
    },
    {
      "cell_type": "code",
      "metadata": {
        "colab": {
          "base_uri": "https://localhost:8080/"
        },
        "id": "lblqSO2sK_Co",
        "outputId": "1a0d84e7-31af-4ce3-e9b0-5cd5c2e47a41"
      },
      "source": [
        "# perform a training and testing split, using 75% of the data for\n",
        "# training and 25% for evaluation\n",
        "(trainX, testX, trainY, testY) = train_test_split(np.array(data),\tnp.array(labels), test_size=0.25)\n",
        "print(trainX.shape)\n",
        "print(testX.shape)"
      ],
      "execution_count": 11,
      "outputs": [
        {
          "output_type": "stream",
          "text": [
            "(711, 64, 64, 3)\n",
            "(237, 64, 64, 3)\n"
          ],
          "name": "stdout"
        }
      ]
    },
    {
      "cell_type": "code",
      "metadata": {
        "id": "AirVzSwsLC0U"
      },
      "source": [
        "from keras.models import Sequential\n",
        "from keras.layers.core import Flatten\n",
        "from keras.layers.core import Dense, Dropout\n",
        "\n",
        "model = Sequential(\n",
        "    [\n",
        "        Flatten(input_shape=(64*64*3,)),\n",
        "        Dense(200, activation=\"relu\"),\n",
        "        Dense(64, activation=\"relu\"),\n",
        "        Dropout(0.3),\n",
        "        Dense(3, activation = \"softmax\"),\n",
        "    ]\n",
        ")"
      ],
      "execution_count": 531,
      "outputs": []
    },
    {
      "cell_type": "code",
      "metadata": {
        "colab": {
          "base_uri": "https://localhost:8080/"
        },
        "id": "gNy5-LCALGCD",
        "outputId": "69a04ab8-3351-42dc-b71a-b1c7cba79f6c"
      },
      "source": [
        "model.summary()"
      ],
      "execution_count": 532,
      "outputs": [
        {
          "output_type": "stream",
          "text": [
            "Model: \"sequential_112\"\n",
            "_________________________________________________________________\n",
            "Layer (type)                 Output Shape              Param #   \n",
            "=================================================================\n",
            "flatten_112 (Flatten)        (None, 12288)             0         \n",
            "_________________________________________________________________\n",
            "dense_492 (Dense)            (None, 200)               2457800   \n",
            "_________________________________________________________________\n",
            "dense_493 (Dense)            (None, 64)                12864     \n",
            "_________________________________________________________________\n",
            "dropout_167 (Dropout)        (None, 64)                0         \n",
            "_________________________________________________________________\n",
            "dense_494 (Dense)            (None, 3)                 195       \n",
            "=================================================================\n",
            "Total params: 2,470,859\n",
            "Trainable params: 2,470,859\n",
            "Non-trainable params: 0\n",
            "_________________________________________________________________\n"
          ],
          "name": "stdout"
        }
      ]
    },
    {
      "cell_type": "code",
      "metadata": {
        "colab": {
          "base_uri": "https://localhost:8080/"
        },
        "id": "Pabc8kVPLHk8",
        "outputId": "f6d43354-59c7-44fa-eba3-d3498504c895"
      },
      "source": [
        "\n",
        "# train the model using the Adam optimizer\n",
        "print(\"[INFO] training network...\")\n",
        "opt = Adam(lr=1e-3, decay=1e-3)\n",
        "model.compile(loss=\"categorical_crossentropy\", optimizer=opt,\n",
        "\tmetrics=[\"accuracy\"])\n",
        "H = model.fit(trainX, trainY, validation_data=(testX, testY), epochs=50, batch_size=32)"
      ],
      "execution_count": 533,
      "outputs": [
        {
          "output_type": "stream",
          "text": [
            "[INFO] training network...\n",
            "Epoch 1/50\n",
            "WARNING:tensorflow:Model was constructed with shape (None, 12288) for input KerasTensor(type_spec=TensorSpec(shape=(None, 12288), dtype=tf.float32, name='flatten_112_input'), name='flatten_112_input', description=\"created by layer 'flatten_112_input'\"), but it was called on an input with incompatible shape (None, 64, 64, 3).\n",
            "WARNING:tensorflow:Model was constructed with shape (None, 12288) for input KerasTensor(type_spec=TensorSpec(shape=(None, 12288), dtype=tf.float32, name='flatten_112_input'), name='flatten_112_input', description=\"created by layer 'flatten_112_input'\"), but it was called on an input with incompatible shape (None, 64, 64, 3).\n",
            "21/23 [==========================>...] - ETA: 0s - loss: 6.1817 - accuracy: 0.3531WARNING:tensorflow:Model was constructed with shape (None, 12288) for input KerasTensor(type_spec=TensorSpec(shape=(None, 12288), dtype=tf.float32, name='flatten_112_input'), name='flatten_112_input', description=\"created by layer 'flatten_112_input'\"), but it was called on an input with incompatible shape (None, 64, 64, 3).\n",
            "23/23 [==============================] - 1s 24ms/step - loss: 5.9610 - accuracy: 0.3569 - val_loss: 1.0100 - val_accuracy: 0.4051\n",
            "Epoch 2/50\n",
            "23/23 [==============================] - 0s 15ms/step - loss: 1.1143 - accuracy: 0.5064 - val_loss: 0.8001 - val_accuracy: 0.6456\n",
            "Epoch 3/50\n",
            "23/23 [==============================] - 0s 16ms/step - loss: 0.8844 - accuracy: 0.5887 - val_loss: 0.7511 - val_accuracy: 0.6624\n",
            "Epoch 4/50\n",
            "23/23 [==============================] - 0s 17ms/step - loss: 0.7753 - accuracy: 0.6785 - val_loss: 0.7575 - val_accuracy: 0.7004\n",
            "Epoch 5/50\n",
            "23/23 [==============================] - 0s 17ms/step - loss: 0.7799 - accuracy: 0.6566 - val_loss: 0.7147 - val_accuracy: 0.6962\n",
            "Epoch 6/50\n",
            "23/23 [==============================] - 0s 16ms/step - loss: 0.7768 - accuracy: 0.6277 - val_loss: 0.6752 - val_accuracy: 0.7131\n",
            "Epoch 7/50\n",
            "23/23 [==============================] - 0s 17ms/step - loss: 0.6665 - accuracy: 0.7592 - val_loss: 0.6318 - val_accuracy: 0.7806\n",
            "Epoch 8/50\n",
            "23/23 [==============================] - 0s 16ms/step - loss: 0.6326 - accuracy: 0.7193 - val_loss: 0.6413 - val_accuracy: 0.7595\n",
            "Epoch 9/50\n",
            "23/23 [==============================] - 0s 16ms/step - loss: 0.6006 - accuracy: 0.7406 - val_loss: 0.5848 - val_accuracy: 0.7890\n",
            "Epoch 10/50\n",
            "23/23 [==============================] - 0s 16ms/step - loss: 0.5783 - accuracy: 0.7761 - val_loss: 0.6006 - val_accuracy: 0.7384\n",
            "Epoch 11/50\n",
            "23/23 [==============================] - 0s 16ms/step - loss: 0.5788 - accuracy: 0.7584 - val_loss: 0.5744 - val_accuracy: 0.8059\n",
            "Epoch 12/50\n",
            "23/23 [==============================] - 0s 17ms/step - loss: 0.5363 - accuracy: 0.7974 - val_loss: 0.5909 - val_accuracy: 0.7848\n",
            "Epoch 13/50\n",
            "23/23 [==============================] - 0s 16ms/step - loss: 0.5844 - accuracy: 0.7665 - val_loss: 0.7784 - val_accuracy: 0.6920\n",
            "Epoch 14/50\n",
            "23/23 [==============================] - 0s 16ms/step - loss: 0.5727 - accuracy: 0.7948 - val_loss: 0.5774 - val_accuracy: 0.8059\n",
            "Epoch 15/50\n",
            "23/23 [==============================] - 0s 16ms/step - loss: 0.5187 - accuracy: 0.7920 - val_loss: 0.5348 - val_accuracy: 0.8101\n",
            "Epoch 16/50\n",
            "23/23 [==============================] - 0s 16ms/step - loss: 0.5500 - accuracy: 0.7904 - val_loss: 0.6216 - val_accuracy: 0.7932\n",
            "Epoch 17/50\n",
            "23/23 [==============================] - 0s 17ms/step - loss: 0.5880 - accuracy: 0.7772 - val_loss: 0.5593 - val_accuracy: 0.8228\n",
            "Epoch 18/50\n",
            "23/23 [==============================] - 0s 15ms/step - loss: 0.5318 - accuracy: 0.7715 - val_loss: 0.5933 - val_accuracy: 0.7426\n",
            "Epoch 19/50\n",
            "23/23 [==============================] - 0s 16ms/step - loss: 0.4864 - accuracy: 0.8165 - val_loss: 0.5464 - val_accuracy: 0.7890\n",
            "Epoch 20/50\n",
            "23/23 [==============================] - 0s 15ms/step - loss: 0.4763 - accuracy: 0.8240 - val_loss: 0.5214 - val_accuracy: 0.8354\n",
            "Epoch 21/50\n",
            "23/23 [==============================] - 0s 16ms/step - loss: 0.4227 - accuracy: 0.8524 - val_loss: 0.5457 - val_accuracy: 0.8270\n",
            "Epoch 22/50\n",
            "23/23 [==============================] - 0s 16ms/step - loss: 0.4741 - accuracy: 0.8039 - val_loss: 0.5447 - val_accuracy: 0.8143\n",
            "Epoch 23/50\n",
            "23/23 [==============================] - 0s 16ms/step - loss: 0.4784 - accuracy: 0.8176 - val_loss: 0.6501 - val_accuracy: 0.7637\n",
            "Epoch 24/50\n",
            "23/23 [==============================] - 0s 17ms/step - loss: 0.4528 - accuracy: 0.8174 - val_loss: 0.4996 - val_accuracy: 0.8143\n",
            "Epoch 25/50\n",
            "23/23 [==============================] - 0s 16ms/step - loss: 0.3750 - accuracy: 0.8773 - val_loss: 0.4962 - val_accuracy: 0.8354\n",
            "Epoch 26/50\n",
            "23/23 [==============================] - 0s 16ms/step - loss: 0.2996 - accuracy: 0.9010 - val_loss: 0.5164 - val_accuracy: 0.8439\n",
            "Epoch 27/50\n",
            "23/23 [==============================] - 0s 16ms/step - loss: 0.3221 - accuracy: 0.8843 - val_loss: 0.4979 - val_accuracy: 0.8270\n",
            "Epoch 28/50\n",
            "23/23 [==============================] - 0s 16ms/step - loss: 0.3275 - accuracy: 0.8751 - val_loss: 0.5166 - val_accuracy: 0.7890\n",
            "Epoch 29/50\n",
            "23/23 [==============================] - 0s 16ms/step - loss: 0.3613 - accuracy: 0.8620 - val_loss: 0.6203 - val_accuracy: 0.7679\n",
            "Epoch 30/50\n",
            "23/23 [==============================] - 0s 16ms/step - loss: 0.3327 - accuracy: 0.8693 - val_loss: 0.5313 - val_accuracy: 0.8397\n",
            "Epoch 31/50\n",
            "23/23 [==============================] - 0s 15ms/step - loss: 0.3707 - accuracy: 0.8663 - val_loss: 0.5434 - val_accuracy: 0.8101\n",
            "Epoch 32/50\n",
            "23/23 [==============================] - 0s 16ms/step - loss: 0.3651 - accuracy: 0.8501 - val_loss: 0.5888 - val_accuracy: 0.8228\n",
            "Epoch 33/50\n",
            "23/23 [==============================] - 0s 16ms/step - loss: 0.3050 - accuracy: 0.9030 - val_loss: 0.5780 - val_accuracy: 0.8186\n",
            "Epoch 34/50\n",
            "23/23 [==============================] - 0s 16ms/step - loss: 0.2743 - accuracy: 0.9147 - val_loss: 0.5784 - val_accuracy: 0.8312\n",
            "Epoch 35/50\n",
            "23/23 [==============================] - 0s 16ms/step - loss: 0.2896 - accuracy: 0.9016 - val_loss: 0.5351 - val_accuracy: 0.8312\n",
            "Epoch 36/50\n",
            "23/23 [==============================] - 0s 16ms/step - loss: 0.2568 - accuracy: 0.9081 - val_loss: 0.5585 - val_accuracy: 0.8228\n",
            "Epoch 37/50\n",
            "23/23 [==============================] - 0s 16ms/step - loss: 0.2678 - accuracy: 0.8996 - val_loss: 0.5124 - val_accuracy: 0.8354\n",
            "Epoch 38/50\n",
            "23/23 [==============================] - 0s 16ms/step - loss: 0.3110 - accuracy: 0.8902 - val_loss: 0.5177 - val_accuracy: 0.8186\n",
            "Epoch 39/50\n",
            "23/23 [==============================] - 0s 16ms/step - loss: 0.2690 - accuracy: 0.9212 - val_loss: 0.5191 - val_accuracy: 0.8397\n",
            "Epoch 40/50\n",
            "23/23 [==============================] - 0s 15ms/step - loss: 0.2569 - accuracy: 0.9258 - val_loss: 0.5366 - val_accuracy: 0.8439\n",
            "Epoch 41/50\n",
            "23/23 [==============================] - 0s 15ms/step - loss: 0.2243 - accuracy: 0.9177 - val_loss: 0.5610 - val_accuracy: 0.8481\n",
            "Epoch 42/50\n",
            "23/23 [==============================] - 0s 16ms/step - loss: 0.2340 - accuracy: 0.9164 - val_loss: 0.5220 - val_accuracy: 0.8228\n",
            "Epoch 43/50\n",
            "23/23 [==============================] - 0s 15ms/step - loss: 0.2566 - accuracy: 0.9176 - val_loss: 0.5777 - val_accuracy: 0.8354\n",
            "Epoch 44/50\n",
            "23/23 [==============================] - 0s 16ms/step - loss: 0.2333 - accuracy: 0.9189 - val_loss: 0.5665 - val_accuracy: 0.8397\n",
            "Epoch 45/50\n",
            "23/23 [==============================] - 0s 17ms/step - loss: 0.2038 - accuracy: 0.9330 - val_loss: 0.5584 - val_accuracy: 0.7848\n",
            "Epoch 46/50\n",
            "23/23 [==============================] - 0s 16ms/step - loss: 0.2361 - accuracy: 0.9059 - val_loss: 0.5403 - val_accuracy: 0.8059\n",
            "Epoch 47/50\n",
            "23/23 [==============================] - 0s 17ms/step - loss: 0.2390 - accuracy: 0.9203 - val_loss: 0.5765 - val_accuracy: 0.8059\n",
            "Epoch 48/50\n",
            "23/23 [==============================] - 0s 16ms/step - loss: 0.2490 - accuracy: 0.9057 - val_loss: 0.5862 - val_accuracy: 0.8228\n",
            "Epoch 49/50\n",
            "23/23 [==============================] - 0s 16ms/step - loss: 0.2283 - accuracy: 0.9067 - val_loss: 0.5539 - val_accuracy: 0.8354\n",
            "Epoch 50/50\n",
            "23/23 [==============================] - 0s 17ms/step - loss: 0.1786 - accuracy: 0.9426 - val_loss: 0.5743 - val_accuracy: 0.8397\n"
          ],
          "name": "stdout"
        }
      ]
    },
    {
      "cell_type": "code",
      "metadata": {
        "colab": {
          "base_uri": "https://localhost:8080/",
          "height": 590
        },
        "id": "ZGA4thykNMCy",
        "outputId": "7f544142-1ade-46ac-eabc-2fcaf7c16069"
      },
      "source": [
        "import matplotlib.pyplot as plt\n",
        "\n",
        "print(H.history.keys())\n",
        "# summarize history for accuracy\n",
        "plt.plot(H.history['accuracy'])\n",
        "plt.plot(H.history['val_accuracy'])\n",
        "plt.title('model accuracy')\n",
        "plt.ylabel('accuracy')\n",
        "plt.xlabel('epoch')\n",
        "plt.legend(['train', 'test'], loc='upper left')\n",
        "plt.show()\n",
        "# summarize history for loss\n",
        "plt.plot(H.history['loss'])\n",
        "plt.plot(H.history['val_loss'])\n",
        "plt.title('model loss')\n",
        "plt.ylabel('loss')\n",
        "plt.xlabel('epoch')\n",
        "plt.legend(['train', 'test'], loc='upper left')\n",
        "plt.show()"
      ],
      "execution_count": 534,
      "outputs": [
        {
          "output_type": "stream",
          "text": [
            "dict_keys(['loss', 'accuracy', 'val_loss', 'val_accuracy'])\n"
          ],
          "name": "stdout"
        },
        {
          "output_type": "display_data",
          "data": {
            "image/png": "[encoded data removed]",
            "text/plain": [
              "<Figure size 432x288 with 1 Axes>"
            ]
          },
          "metadata": {
            "tags": [],
            "needs_background": "light"
          }
        },
        {
          "output_type": "display_data",
          "data": {
            "image/png": "[encoded data removed]",
            "text/plain": [
              "<Figure size 432x288 with 1 Axes>"
            ]
          },
          "metadata": {
            "tags": [],
            "needs_background": "light"
          }
        }
      ]
    },
    {
      "cell_type": "code",
      "metadata": {
        "colab": {
          "base_uri": "https://localhost:8080/"
        },
        "id": "uh7bvkshN76_",
        "outputId": "c9cc8903-2ee6-48d3-fb85-6640bfd5ae5a"
      },
      "source": [
        "\n",
        "# evaluate the network\n",
        "print(\"[INFO] evaluating network...\")\n",
        "predictions = model.predict(testX, batch_size=32)\n",
        "print(classification_report(testY.argmax(axis=1),\n",
        "\tpredictions.argmax(axis=1), target_names=lb.classes_))"
      ],
      "execution_count": 535,
      "outputs": [
        {
          "output_type": "stream",
          "text": [
            "[INFO] evaluating network...\n",
            "WARNING:tensorflow:Model was constructed with shape (None, 12288) for input KerasTensor(type_spec=TensorSpec(shape=(None, 12288), dtype=tf.float32, name='flatten_112_input'), name='flatten_112_input', description=\"created by layer 'flatten_112_input'\"), but it was called on an input with incompatible shape (None, 64, 64, 3).\n",
            "              precision    recall  f1-score   support\n",
            "\n",
            "       coast       0.82      0.92      0.86        87\n",
            "      forest       0.88      0.79      0.83        76\n",
            "     highway       0.83      0.80      0.81        74\n",
            "\n",
            "    accuracy                           0.84       237\n",
            "   macro avg       0.84      0.84      0.84       237\n",
            "weighted avg       0.84      0.84      0.84       237\n",
            "\n"
          ],
          "name": "stdout"
        }
      ]
    }
  ]
}